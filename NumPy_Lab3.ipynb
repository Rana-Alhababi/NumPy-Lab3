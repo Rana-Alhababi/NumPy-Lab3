{
  "cells": [
    {
      "cell_type": "markdown",
      "id": "afb4e7a0-e453-4a86-9163-2b5242f7cea0",
      "metadata": {
        "id": "afb4e7a0-e453-4a86-9163-2b5242f7cea0"
      },
      "source": [
        "# Real world Scenario with Numpy"
      ]
    },
    {
      "cell_type": "markdown",
      "id": "b7fc781e-8242-4c4f-a4cf-c9646b6b98d4",
      "metadata": {
        "id": "b7fc781e-8242-4c4f-a4cf-c9646b6b98d4"
      },
      "source": [
        "<hr>\n",
        "\n",
        "<img src=\"https://i.imgur.com/mRN9H4v.png\"/>"
      ]
    },
    {
      "cell_type": "code",
      "execution_count": 32,
      "id": "93c0c316-d198-4cdc-b366-1cfcdc48a6b8",
      "metadata": {
        "id": "93c0c316-d198-4cdc-b366-1cfcdc48a6b8"
      },
      "outputs": [],
      "source": [
        "import numpy as np"
      ]
    },
    {
      "cell_type": "code",
      "execution_count": 33,
      "id": "da6b2527-511c-4e40-82c7-c56428b67929",
      "metadata": {
        "id": "da6b2527-511c-4e40-82c7-c56428b67929"
      },
      "outputs": [],
      "source": [
        "names = np.array((\"Khaled\", \"Sarah\", \"Mohammed\", \"Reem\",\"Fahad\", \"Saleh\", \"Nora\"))\n",
        "ages = np.array((17, 60, 21, 55, 29, 24, 19))"
      ]
    },
    {
      "cell_type": "code",
      "execution_count": 34,
      "id": "bf5f8525-0a6c-4d59-88be-8e89067281f6",
      "metadata": {
        "colab": {
          "base_uri": "https://localhost:8080/"
        },
        "id": "bf5f8525-0a6c-4d59-88be-8e89067281f6",
        "outputId": "f63c48d9-b96f-4524-9ae6-7a15924638e2"
      },
      "outputs": [
        {
          "output_type": "stream",
          "name": "stdout",
          "text": [
            "1- Sarah\n",
            "2- Reem\n",
            "3- Fahad\n",
            "4- Saleh\n",
            "5- Mohammed\n",
            "6- Nora\n",
            "7- Khaled\n"
          ]
        }
      ],
      "source": [
        "# write your code here ^_^\n",
        "sorted_indices = np.argsort(-ages)\n",
        "\n",
        "sorted_names = names[sorted_indices]\n",
        "\n",
        "for i, name in enumerate(sorted_names):\n",
        "    print(f\"{i+1}- {name}\")"
      ]
    },
    {
      "cell_type": "markdown",
      "id": "af47d8d6-075c-43fa-b27f-e804f834d475",
      "metadata": {
        "id": "af47d8d6-075c-43fa-b27f-e804f834d475"
      },
      "source": [
        "<hr>\n",
        "\n",
        "<img src=\"https://i.imgur.com/jbHKBPR.png![image.png](attachment:49d72e8d-c091-43ab-8ecd-db9a79858664.png)![image.png](attachment:ae9cf8e0-d2c1-4396-8bfc-0d7016cff2ad.png)![image.png](attachment:8f96c12e-5e2a-432b-b706-429bbafdeccc.png)![image.png](attachment:bd54d228-298e-4fdd-8464-49002837e5e5.png)\"/>"
      ]
    },
    {
      "cell_type": "code",
      "execution_count": 35,
      "id": "ab02fa69-e4ec-4025-8fcb-7a59db6c622c",
      "metadata": {
        "id": "ab02fa69-e4ec-4025-8fcb-7a59db6c622c"
      },
      "outputs": [],
      "source": [
        "import calendar\n",
        "import numpy as np\n"
      ]
    },
    {
      "cell_type": "code",
      "execution_count": 36,
      "id": "bd565605-22a1-497f-9925-773a9b7c7140",
      "metadata": {
        "id": "bd565605-22a1-497f-9925-773a9b7c7140"
      },
      "outputs": [],
      "source": [
        "month_names = list(calendar.month_name)[1:]\n",
        "temperature_data = np.array([40, 38, 28, 20, 15, 28, 35, 40, 48, 45, 40, 43])\n",
        "threshold = 35"
      ]
    },
    {
      "cell_type": "code",
      "execution_count": 37,
      "id": "fc2062d3-4cd4-4797-a472-15422b444b47",
      "metadata": {
        "colab": {
          "base_uri": "https://localhost:8080/"
        },
        "id": "fc2062d3-4cd4-4797-a472-15422b444b47",
        "outputId": "1d4abd8d-d631-493e-d8fd-eddb4826ca23"
      },
      "outputs": [
        {
          "output_type": "stream",
          "name": "stdout",
          "text": [
            "The average temperature for the year: 35.0\n",
            "The months with temperatures above the threshold: ['January', 'February', 'August', 'September', 'October', 'November', 'December']\n",
            "The month with the highest temperature: September\n",
            "The month with the lowest temperature: May\n",
            "Temperature range: 33\n"
          ]
        }
      ],
      "source": [
        "# write your code here ^_^\n",
        "# Calculate the average temperature for the year.\n",
        "average_temperature = np.mean(temperature_data)\n",
        "print(\"The average temperature for the year:\", average_temperature)\n",
        "\n",
        "#Find the months with temperatures above the threshold.\n",
        "above_threshold_months = np.where(temperature_data > threshold)[0]\n",
        "above_threshold_month_names = [month_names[i] for i in above_threshold_months]\n",
        "print(\"The months with temperatures above the threshold:\", above_threshold_month_names)\n",
        "\n",
        "#Determine the month with the highest and lowest temperature\n",
        "highest_temperature_month_index = np.argmax(temperature_data)\n",
        "lowest_temperature_month_index = np.argmin(temperature_data)\n",
        "highest_temperature_month = month_names[highest_temperature_month_index]\n",
        "lowest_temperature_month = month_names[lowest_temperature_month_index]\n",
        "print(\"The month with the highest temperature:\", highest_temperature_month)\n",
        "print(\"The month with the lowest temperature:\", lowest_temperature_month)\n",
        "\n",
        "#Calculate the temperature range\n",
        "temperature_range = np.max(temperature_data) - np.min(temperature_data)\n",
        "print(\"Temperature range:\", temperature_range)\n"
      ]
    },
    {
      "cell_type": "markdown",
      "id": "33f65a00-76f4-4ffc-8e28-1f2c8c094a86",
      "metadata": {
        "id": "33f65a00-76f4-4ffc-8e28-1f2c8c094a86"
      },
      "source": [
        "<hr>\n",
        "\n",
        "<img src=\"https://i.imgur.com/eiXHG9y.png\"/>"
      ]
    },
    {
      "cell_type": "code",
      "execution_count": 38,
      "id": "a642594f-b33d-4b5d-a2d4-44b13f6f45d0",
      "metadata": {
        "id": "a642594f-b33d-4b5d-a2d4-44b13f6f45d0"
      },
      "outputs": [],
      "source": [
        "students = np.array(['Mohammed', 'Lama', 'Norah', 'Ahmed', 'Fahad'])\n",
        "math_scores = np.array([80, 92, 75, 68, 88])\n",
        "ML_scores = np.array([85, 78, 92, 64, 90])\n",
        "DS_scores = np.array([70, 88, 75, 82, 78])"
      ]
    },
    {
      "cell_type": "code",
      "execution_count": 39,
      "id": "5a6cb79c-3359-4505-8a26-59c4dab1977f",
      "metadata": {
        "colab": {
          "base_uri": "https://localhost:8080/"
        },
        "id": "5a6cb79c-3359-4505-8a26-59c4dab1977f",
        "outputId": "9822bbb8-c04a-47bd-a6cd-a7063ab37d2e"
      },
      "outputs": [
        {
          "output_type": "stream",
          "name": "stdout",
          "text": [
            "Math Scores Statistics:\n",
            "Average score: 80.6\n",
            "Highest score: 92\n",
            "Lowest score: 68\n",
            "Standard deviation of scores: 8.662563131083086\n",
            "\n",
            "---------------------------\n",
            "Data Structure Scores Statistics:\n",
            "Average score: 78.6\n",
            "Highest score: 88\n",
            "Lowest score: 70\n",
            "Standard deviation of scores: 6.118823416311342\n",
            "\n",
            "---------------------------\n",
            "Machine Learning Scores Statistics:\n",
            "Average score: 81.8\n",
            "Highest score: 92\n",
            "Lowest score: 64\n",
            "Standard deviation of scores: 10.127191120937729\n",
            "\n"
          ]
        }
      ],
      "source": [
        "# write your code here ^_^\n",
        "#Calculating statistics for each subject\n",
        "# Math scores statistics\n",
        "math_avg = np.mean(math_scores)\n",
        "math_max = np.max(math_scores)\n",
        "math_min = np.min(math_scores)\n",
        "math_std = np.std(math_scores)\n",
        "\n",
        "print(\"Math Scores Statistics:\")\n",
        "print(\"Average score:\", math_avg)\n",
        "print(\"Highest score:\", math_max)\n",
        "print(\"Lowest score:\", math_min)\n",
        "print(\"Standard deviation of scores:\", math_std)\n",
        "print()\n",
        "print(\"---------------------------\")\n",
        "\n",
        "# Data Structure scores statistics\n",
        "DS_avg = np.mean(DS_scores)\n",
        "DS_max = np.max(DS_scores)\n",
        "DS_min = np.min(DS_scores)\n",
        "DS_std = np.std(DS_scores)\n",
        "\n",
        "print(\"Data Structure Scores Statistics:\")\n",
        "print(\"Average score:\", DS_avg)\n",
        "print(\"Highest score:\", DS_max)\n",
        "print(\"Lowest score:\", DS_min)\n",
        "print(\"Standard deviation of scores:\", DS_std)\n",
        "print()\n",
        "\n",
        "print(\"---------------------------\")\n",
        "# Machine Learning scores statistics\n",
        "ML_avg = np.mean(ML_scores)\n",
        "ML_max = np.max(ML_scores)\n",
        "ML_min = np.min(ML_scores)\n",
        "ML_std = np.std(ML_scores)\n",
        "\n",
        "print(\"Machine Learning Scores Statistics:\")\n",
        "print(\"Average score:\", ML_avg)\n",
        "print(\"Highest score:\", ML_max)\n",
        "print(\"Lowest score:\", ML_min)\n",
        "print(\"Standard deviation of scores:\", ML_std)\n",
        "print()\n"
      ]
    },
    {
      "cell_type": "code",
      "source": [
        "#Finding the student with the highest and lowest overall average scores:\n",
        "# Calculate overall average scores\n",
        "overall_avg_scores = (math_scores + DS_scores + ML_scores) / 3\n",
        "\n",
        "# Find the student with the highest overall average score\n",
        "highest_avg_student = students[np.argmax(overall_avg_scores)]\n",
        "\n",
        "# Find the student with the lowest overall average score\n",
        "lowest_avg_student = students[np.argmin(overall_avg_scores)]\n",
        "\n",
        "print(\"Student with the highest overall average score:\", highest_avg_student)\n",
        "print(\"Student with the lowest overall average score:\", lowest_avg_student)\n",
        "print()"
      ],
      "metadata": {
        "colab": {
          "base_uri": "https://localhost:8080/"
        },
        "id": "MM1Zu2TwL8N0",
        "outputId": "f8d4ee36-e6ba-4592-8bb2-c3f1e3a2331b"
      },
      "id": "MM1Zu2TwL8N0",
      "execution_count": 40,
      "outputs": [
        {
          "output_type": "stream",
          "name": "stdout",
          "text": [
            "Student with the highest overall average score: Lama\n",
            "Student with the lowest overall average score: Ahmed\n",
            "\n"
          ]
        }
      ]
    },
    {
      "cell_type": "code",
      "source": [
        "#Identifying students who failed (average score below 40) in any subject:\n",
        "# Check if any student has an average score below 40 in any subject\n",
        "failed_students = []\n",
        "\n",
        "for i in range(len(students)):\n",
        "    if math_scores[i] < 40 or DS_scores[i] < 40 or ML_scores[i] < 40:\n",
        "        failed_students.append(students[i])\n",
        "\n",
        "if len(failed_students) > 0:\n",
        "    print(\"Students who failed in any subject:\")\n",
        "    for student in failed_students:\n",
        "        print(student)\n",
        "else:\n",
        "    print(\"No students failed in any subject.\")"
      ],
      "metadata": {
        "colab": {
          "base_uri": "https://localhost:8080/"
        },
        "id": "SC_3QOeOMQXo",
        "outputId": "baa14da4-0e5f-4102-8600-d64ea156e0b6"
      },
      "id": "SC_3QOeOMQXo",
      "execution_count": 50,
      "outputs": [
        {
          "output_type": "stream",
          "name": "stdout",
          "text": [
            "No students failed in any subject.\n"
          ]
        }
      ]
    },
    {
      "cell_type": "code",
      "source": [
        "#Normalizing the scores to have a mean of 0 and a standard deviation of 1 in each subject:\n",
        "# Normalize the scores using z-score normalization\n",
        "normalized_math_scores = (math_scores - np.mean(math_scores)) / np.std(math_scores)\n",
        "normalized_DS_scores = (DS_scores - np.mean(DS_scores)) / np.std(DS_scores)\n",
        "normalized_ML_scores = (ML_scores - np.mean(ML_scores)) / np.std(ML_scores)\n",
        "\n",
        "print(\"Normalized Math Scores:\")\n",
        "print(normalized_math_scores)\n",
        "print()\n",
        "\n",
        "print(\"Normalized Data Structure Scores:\")\n",
        "print(normalized_DS_scores)\n",
        "print()\n",
        "\n",
        "print(\"Normalized Machine Learning Scores:\")\n",
        "print(normalized_ML_scores)"
      ],
      "metadata": {
        "colab": {
          "base_uri": "https://localhost:8080/"
        },
        "id": "0ZfZl9a3MXMq",
        "outputId": "a8f10494-21ed-431b-e364-5ab5cf864711"
      },
      "id": "0ZfZl9a3MXMq",
      "execution_count": 42,
      "outputs": [
        {
          "output_type": "stream",
          "name": "stdout",
          "text": [
            "Normalized Math Scores:\n",
            "[-0.06926356  1.31600773 -0.64645994 -1.45453485  0.85425063]\n",
            "\n",
            "Normalized Data Structure Scores:\n",
            "[-1.40549897  1.53624306 -0.58834841  0.55566238 -0.09805807]\n",
            "\n",
            "Normalized Machine Learning Scores:\n",
            "[ 0.315981   -0.37522744  1.00718944 -1.75764432  0.80970132]\n"
          ]
        }
      ]
    },
    {
      "cell_type": "markdown",
      "id": "bbaf40e9-20a6-425a-aa35-548e6e8ab55e",
      "metadata": {
        "id": "bbaf40e9-20a6-425a-aa35-548e6e8ab55e"
      },
      "source": [
        "<hr>\n",
        "\n",
        "### <center> Great job! Keep exploring and learning. Your progress is remarkable.\n",
        "\n",
        "<hr>"
      ]
    },
    {
      "cell_type": "markdown",
      "id": "b1499ad9-75eb-4158-9b03-b2af8eebd772",
      "metadata": {
        "id": "b1499ad9-75eb-4158-9b03-b2af8eebd772"
      },
      "source": [
        "<hr>"
      ]
    }
  ],
  "metadata": {
    "kernelspec": {
      "display_name": "Python 3 (ipykernel)",
      "language": "python",
      "name": "python3"
    },
    "language_info": {
      "codemirror_mode": {
        "name": "ipython",
        "version": 3
      },
      "file_extension": ".py",
      "mimetype": "text/x-python",
      "name": "python",
      "nbconvert_exporter": "python",
      "pygments_lexer": "ipython3",
      "version": "3.11.6"
    },
    "colab": {
      "provenance": []
    }
  },
  "nbformat": 4,
  "nbformat_minor": 5
}